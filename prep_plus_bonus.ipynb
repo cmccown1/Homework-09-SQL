{
 "cells": [
  {
   "cell_type": "code",
   "execution_count": 1,
   "metadata": {},
   "outputs": [],
   "source": [
    "import pandas as pd\n",
    "import numpy as np\n",
    "import matplotlib.pyplot as plt\n",
    "from sqlalchemy import create_engine"
   ]
  },
  {
   "cell_type": "markdown",
   "metadata": {},
   "source": [
    "# Preliminary look at the data"
   ]
  },
  {
   "cell_type": "code",
   "execution_count": null,
   "metadata": {},
   "outputs": [],
   "source": [
    "# the next six cells are just taking a preliminary look at the source CSVs\n",
    "# to determine which columns might serve as primary keys, etc."
   ]
  },
  {
   "cell_type": "code",
   "execution_count": 3,
   "metadata": {},
   "outputs": [
    {
     "name": "stdout",
     "output_type": "stream",
     "text": [
      "count:\n",
      "dept_no      9\n",
      "dept_name    9\n",
      "dtype: int64\n",
      "\n",
      "nunique:\n",
      "dept_no      9\n",
      "dept_name    9\n",
      "dtype: int64\n",
      "\n"
     ]
    }
   ],
   "source": [
    "# import data and compare counts to counts of unique values\n",
    "look_df = pd.read_csv('data\\departments.csv')\n",
    "print(f'count:\\n{look_df.count()}\\n')\n",
    "print(f'nunique:\\n{look_df.nunique()}\\n')\n",
    "\n",
    "# all values are unique, and dept_no is a suitable primary key"
   ]
  },
  {
   "cell_type": "code",
   "execution_count": 4,
   "metadata": {},
   "outputs": [
    {
     "name": "stdout",
     "output_type": "stream",
     "text": [
      "count:\n",
      "emp_no       331603\n",
      "dept_no      331603\n",
      "from_date    331603\n",
      "to_date      331603\n",
      "dtype: int64\n",
      "\n",
      "nunique:\n",
      "emp_no       300024\n",
      "dept_no           9\n",
      "from_date      6393\n",
      "to_date        6085\n",
      "dtype: int64\n",
      "\n"
     ]
    }
   ],
   "source": [
    "# import data and compare counts to counts of unique values\n",
    "look_df = pd.read_csv('data\\dept_emp.csv')\n",
    "print(f'count:\\n{look_df.count()}\\n')\n",
    "print(f'nunique:\\n{look_df.nunique()}\\n')\n",
    "\n",
    "# need to add an id field here to serve as primary key"
   ]
  },
  {
   "cell_type": "code",
   "execution_count": 5,
   "metadata": {},
   "outputs": [
    {
     "name": "stdout",
     "output_type": "stream",
     "text": [
      "count:\n",
      "dept_no      24\n",
      "emp_no       24\n",
      "from_date    24\n",
      "to_date      24\n",
      "dtype: int64\n",
      "\n",
      "nunique:\n",
      "dept_no       9\n",
      "emp_no       24\n",
      "from_date    16\n",
      "to_date      16\n",
      "dtype: int64\n",
      "\n"
     ]
    }
   ],
   "source": [
    "# import data and compare counts to counts of unique values\n",
    "look_df = pd.read_csv('data\\dept_manager.csv')\n",
    "print(f'count:\\n{look_df.count()}\\n')\n",
    "print(f'nunique:\\n{look_df.nunique()}\\n')\n",
    "\n",
    "# at the moment, emp_no could serve as primary key\n",
    "# could a manager move from one dept to another, though?\n",
    "# could they create a new departement and move a manager?\n",
    "# in that case, you'd have a new row with a duplicate emp_no\n",
    "# moving forward, it could be better to have an id field as primary key"
   ]
  },
  {
   "cell_type": "code",
   "execution_count": 6,
   "metadata": {},
   "outputs": [
    {
     "name": "stdout",
     "output_type": "stream",
     "text": [
      "count:\n",
      "emp_no        300024\n",
      "birth_date    300024\n",
      "first_name    300024\n",
      "last_name     300024\n",
      "gender        300024\n",
      "hire_date     300024\n",
      "dtype: int64\n",
      "\n",
      "nunique:\n",
      "emp_no        300024\n",
      "birth_date      4750\n",
      "first_name      1276\n",
      "last_name       1638\n",
      "gender             2\n",
      "hire_date       5434\n",
      "dtype: int64\n",
      "\n"
     ]
    }
   ],
   "source": [
    "# import data and compare counts to counts of unique values\n",
    "look_df = pd.read_csv('data\\employees.csv')\n",
    "print(f'count:\\n{look_df.count()}\\n')\n",
    "print(f'nunique:\\n{look_df.nunique()}\\n')\n",
    "\n",
    "# emp_no is unique and is a suitable primary key"
   ]
  },
  {
   "cell_type": "code",
   "execution_count": 7,
   "metadata": {},
   "outputs": [
    {
     "name": "stdout",
     "output_type": "stream",
     "text": [
      "count:\n",
      "emp_no       300024\n",
      "salary       300024\n",
      "from_date    300024\n",
      "to_date      300024\n",
      "dtype: int64\n",
      "\n",
      "nunique:\n",
      "emp_no       300024\n",
      "salary        50355\n",
      "from_date      5481\n",
      "to_date        5568\n",
      "dtype: int64\n",
      "\n"
     ]
    }
   ],
   "source": [
    "# import data and compare counts to counts of unique values\n",
    "look_df = pd.read_csv('data\\salaries.csv')\n",
    "print(f'count:\\n{look_df.count()}\\n')\n",
    "print(f'nunique:\\n{look_df.nunique()}\\n')\n",
    "\n",
    "# at the moment emp_no could serve as primary key\n",
    "# seems weird, though -- no history of an employee getting a raise?"
   ]
  },
  {
   "cell_type": "code",
   "execution_count": 8,
   "metadata": {},
   "outputs": [
    {
     "name": "stdout",
     "output_type": "stream",
     "text": [
      "count:\n",
      "emp_no       443308\n",
      "title        443308\n",
      "from_date    443308\n",
      "to_date      443308\n",
      "dtype: int64\n",
      "\n",
      "nunique:\n",
      "emp_no       300024\n",
      "title             7\n",
      "from_date      6393\n",
      "to_date        5888\n",
      "dtype: int64\n",
      "\n"
     ]
    }
   ],
   "source": [
    "# import data and compare counts to counts of unique values\n",
    "look_df = pd.read_csv(r'data\\titles.csv')\n",
    "print(f'count:\\n{look_df.count()}\\n')\n",
    "print(f'nunique:\\n{look_df.nunique()}\\n')\n",
    "\n",
    "# need to add an id column to serve as primary key\n",
    "# I had a problem reading this file. I had to prepend the path string with carriage return character. Weird."
   ]
  },
  {
   "cell_type": "markdown",
   "metadata": {},
   "source": [
    "# The bonus analyses"
   ]
  },
  {
   "cell_type": "code",
   "execution_count": 12,
   "metadata": {},
   "outputs": [],
   "source": [
    "# create the engine object\n",
    "engine = create_engine('postgresql://postgres:<password_here>@localhost:5432/Homework')\n",
    "\n",
    "# create dataframes\n",
    "with engine.connect() as connection:\n",
    "    salaries_df = pd.read_sql_query('select * from \"salaries\"',con=engine)\n",
    "    titles_df = pd.read_sql_query('select * from \"titles\"',con=engine)"
   ]
  },
  {
   "cell_type": "code",
   "execution_count": 13,
   "metadata": {},
   "outputs": [],
   "source": [
    "# merge/join the two dataframes\n",
    "merged_df = pd.merge(titles_df,salaries_df, on = ('emp_no','emp_no'))"
   ]
  },
  {
   "cell_type": "code",
   "execution_count": 14,
   "metadata": {},
   "outputs": [
    {
     "data": {
      "text/plain": [
       "title\n",
       "Assistant Engineer    48493.204786\n",
       "Engineer              48539.781423\n",
       "Manager               51531.041667\n",
       "Senior Engineer       48506.751806\n",
       "Senior Staff          58503.286614\n",
       "Staff                 58465.271904\n",
       "Technique Leader      48580.505772\n",
       "Name: salary, dtype: float64"
      ]
     },
     "execution_count": 14,
     "metadata": {},
     "output_type": "execute_result"
    }
   ],
   "source": [
    "# group by title and look at the average salaries\n",
    "avg_salaries = merged_df.groupby('title')['salary'].mean()\n",
    "avg_salaries"
   ]
  },
  {
   "cell_type": "code",
   "execution_count": 15,
   "metadata": {},
   "outputs": [
    {
     "data": {
      "image/png": "[encoded data removed]",
      "text/plain": [
       "<Figure size 1080x360 with 1 Axes>"
      ]
     },
     "metadata": {
      "needs_background": "light"
     },
     "output_type": "display_data"
    }
   ],
   "source": [
    "# set the labels for the bars\n",
    "titles = avg_salaries.index\n",
    "# set the positions for ticks and labels\n",
    "position = np.arange(len(titles))\n",
    "# set the values to plot\n",
    "avg_salary = avg_salaries\n",
    "\n",
    "# make sure there's enough room\n",
    "plt.figure(figsize = [15,5])\n",
    "# create the plot\n",
    "plt.bar(position, avg_salary, align='center', alpha=0.5)\n",
    "# add ricks and labels\n",
    "plt.xticks(position, titles)\n",
    "# label the y-axis\n",
    "plt.ylabel('$ per year')\n",
    "# add a title\n",
    "plt.title('Average Salaries by Title')\n",
    "\n",
    "#show the plot\n",
    "plt.show()"
   ]
  },
  {
   "cell_type": "code",
   "execution_count": null,
   "metadata": {},
   "outputs": [],
   "source": [
    "# this is not a real salary structure!"
   ]
  }
 ],
 "metadata": {
  "kernelspec": {
   "display_name": "Python [conda env:PythonData] *",
   "language": "python",
   "name": "conda-env-PythonData-py"
  },
  "language_info": {
   "codemirror_mode": {
    "name": "ipython",
    "version": 3
   },
   "file_extension": ".py",
   "mimetype": "text/x-python",
   "name": "python",
   "nbconvert_exporter": "python",
   "pygments_lexer": "ipython3",
   "version": "3.6.8"
  }
 },
 "nbformat": 4,
 "nbformat_minor": 2
}
